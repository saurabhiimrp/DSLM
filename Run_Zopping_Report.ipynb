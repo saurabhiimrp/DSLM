{
  "nbformat": 4,
  "nbformat_minor": 0,
  "metadata": {
    "colab": {
      "provenance": [],
      "authorship_tag": "ABX9TyNhvH7A0W5rjNIXY2ULFuO9",
      "include_colab_link": true
    },
    "kernelspec": {
      "name": "python3",
      "display_name": "Python 3"
    },
    "language_info": {
      "name": "python"
    }
  },
  "cells": [
    {
      "cell_type": "markdown",
      "metadata": {
        "id": "view-in-github",
        "colab_type": "text"
      },
      "source": [
        "<a href=\"https://colab.research.google.com/github/saurabhiimrp/DSLM/blob/main/Run_Zopping_Report.ipynb\" target=\"_parent\"><img src=\"https://colab.research.google.com/assets/colab-badge.svg\" alt=\"Open In Colab\"/></a>"
      ]
    },
    {
      "cell_type": "code",
      "execution_count": null,
      "metadata": {
        "colab": {
          "base_uri": "https://localhost:8080/"
        },
        "id": "t5H5l2VmNILN",
        "outputId": "23cd1967-bb39-480d-9fab-dd3f17f3fcfb"
      },
      "outputs": [
        {
          "output_type": "stream",
          "name": "stdout",
          "text": [
            "Mounted at /content/drive\n",
            "/content/drive/MyDrive/Modern Bazaar/Zopping_Auto\n",
            "✅ Zopping Report executed successfully!\n"
          ]
        }
      ],
      "source": [
        "# Mount Google Drive\n",
        "from google.colab import drive\n",
        "drive.mount('/content/drive')\n",
        "\n",
        "# Navigate to your project folder\n",
        "%cd \"/content/drive/MyDrive/Modern Bazaar/Zopping_Auto\"\n",
        "\n",
        "# Install dependencies\n",
        "!pip install pandas requests --quiet\n",
        "\n",
        "# Run the main script\n",
        "!python download_zopping_report.py\n",
        "print(\"✅ Zopping Report executed successfully!\")\n"
      ]
    }
  ]
}